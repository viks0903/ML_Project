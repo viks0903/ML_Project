{
 "cells": [
  {
   "cell_type": "markdown",
   "id": "1e690f72-7e27-4fb9-8858-fd1691e604d5",
   "metadata": {},
   "source": [
    "# Model Training [ Result 3 ] -- Part 3  \n",
    "# Target variable --> Average score\n",
    "## with Top 10 features \n",
    "### 1.1 Import Data and Required Packages  \n",
    "Importing Pandas, Numpy, Matplotlib, Seaborn"
   ]
  },
  {
   "cell_type": "code",
   "execution_count": 4,
   "id": "6d11c967-014f-4ff4-bf49-10380789993e",
   "metadata": {},
   "outputs": [],
   "source": [
    "import numpy as np\n",
    "import pandas as pd\n",
    "import matplotlib.pyplot as plt \n",
    "import seaborn as sns"
   ]
  },
  {
   "cell_type": "code",
   "execution_count": 5,
   "id": "c8aeca15",
   "metadata": {},
   "outputs": [],
   "source": [
    "from sklearn.svm import SVR\n",
    "\n",
    "from sklearn.preprocessing import StandardScaler\n",
    "from sklearn.metrics import mean_squared_error,r2_score\n"
   ]
  },
  {
   "cell_type": "markdown",
   "id": "dec0a509-6acd-4f2c-b20d-fcf27c3b3987",
   "metadata": {},
   "source": [
    "### Preparing X and Y variables"
   ]
  },
  {
   "cell_type": "code",
   "execution_count": 6,
   "id": "686be764-e2c7-4f07-8d33-6f5c32e6b678",
   "metadata": {},
   "outputs": [],
   "source": [
    "X_train = pd.read_csv('X_train.csv')\n",
    "X_test = pd.read_csv('X_test.csv')\n",
    "\n",
    "Y_train = pd.read_csv('Y_train.csv').squeeze()\n",
    "Y_test = pd.read_csv('Y_test.csv').squeeze()\n",
    "\n",
    "X=X_train\n",
    "Y=Y_train"
   ]
  },
  {
   "cell_type": "code",
   "execution_count": 7,
   "id": "b27e5186-1197-4b06-8bd7-fb7f05427e31",
   "metadata": {},
   "outputs": [
    {
     "data": {
      "text/plain": [
       "Index(['math_score', 'test_preparation_course_completed',\n",
       "       'test_preparation_course_none', 'lunch_free/reduced', 'gender_female',\n",
       "       'lunch_standard', 'parental_level_of_education_high school',\n",
       "       'race_ethnicity_group D', 'race_ethnicity_group B', 'gender_male'],\n",
       "      dtype='object')"
      ]
     },
     "execution_count": 7,
     "metadata": {},
     "output_type": "execute_result"
    }
   ],
   "source": [
    "X.columns"
   ]
  },
  {
   "cell_type": "code",
   "execution_count": 8,
   "id": "39d3c0bf-edfd-47e6-ba0e-72421ef9eda3",
   "metadata": {
    "tags": []
   },
   "outputs": [
    {
     "data": {
      "text/html": [
       "<div>\n",
       "<style scoped>\n",
       "    .dataframe tbody tr th:only-of-type {\n",
       "        vertical-align: middle;\n",
       "    }\n",
       "\n",
       "    .dataframe tbody tr th {\n",
       "        vertical-align: top;\n",
       "    }\n",
       "\n",
       "    .dataframe thead th {\n",
       "        text-align: right;\n",
       "    }\n",
       "</style>\n",
       "<table border=\"1\" class=\"dataframe\">\n",
       "  <thead>\n",
       "    <tr style=\"text-align: right;\">\n",
       "      <th></th>\n",
       "      <th>math_score</th>\n",
       "      <th>test_preparation_course_completed</th>\n",
       "      <th>test_preparation_course_none</th>\n",
       "      <th>lunch_free/reduced</th>\n",
       "      <th>gender_female</th>\n",
       "      <th>lunch_standard</th>\n",
       "      <th>parental_level_of_education_high school</th>\n",
       "      <th>race_ethnicity_group D</th>\n",
       "      <th>race_ethnicity_group B</th>\n",
       "      <th>gender_male</th>\n",
       "    </tr>\n",
       "  </thead>\n",
       "  <tbody>\n",
       "    <tr>\n",
       "      <th>0</th>\n",
       "      <td>62</td>\n",
       "      <td>0</td>\n",
       "      <td>1</td>\n",
       "      <td>0</td>\n",
       "      <td>1</td>\n",
       "      <td>1</td>\n",
       "      <td>0</td>\n",
       "      <td>1</td>\n",
       "      <td>0</td>\n",
       "      <td>0</td>\n",
       "    </tr>\n",
       "    <tr>\n",
       "      <th>1</th>\n",
       "      <td>66</td>\n",
       "      <td>1</td>\n",
       "      <td>0</td>\n",
       "      <td>1</td>\n",
       "      <td>1</td>\n",
       "      <td>0</td>\n",
       "      <td>0</td>\n",
       "      <td>0</td>\n",
       "      <td>0</td>\n",
       "      <td>0</td>\n",
       "    </tr>\n",
       "    <tr>\n",
       "      <th>2</th>\n",
       "      <td>79</td>\n",
       "      <td>0</td>\n",
       "      <td>1</td>\n",
       "      <td>1</td>\n",
       "      <td>1</td>\n",
       "      <td>0</td>\n",
       "      <td>0</td>\n",
       "      <td>1</td>\n",
       "      <td>0</td>\n",
       "      <td>0</td>\n",
       "    </tr>\n",
       "    <tr>\n",
       "      <th>3</th>\n",
       "      <td>61</td>\n",
       "      <td>0</td>\n",
       "      <td>1</td>\n",
       "      <td>1</td>\n",
       "      <td>0</td>\n",
       "      <td>0</td>\n",
       "      <td>0</td>\n",
       "      <td>0</td>\n",
       "      <td>0</td>\n",
       "      <td>1</td>\n",
       "    </tr>\n",
       "    <tr>\n",
       "      <th>4</th>\n",
       "      <td>73</td>\n",
       "      <td>0</td>\n",
       "      <td>1</td>\n",
       "      <td>0</td>\n",
       "      <td>0</td>\n",
       "      <td>1</td>\n",
       "      <td>1</td>\n",
       "      <td>0</td>\n",
       "      <td>0</td>\n",
       "      <td>1</td>\n",
       "    </tr>\n",
       "    <tr>\n",
       "      <th>...</th>\n",
       "      <td>...</td>\n",
       "      <td>...</td>\n",
       "      <td>...</td>\n",
       "      <td>...</td>\n",
       "      <td>...</td>\n",
       "      <td>...</td>\n",
       "      <td>...</td>\n",
       "      <td>...</td>\n",
       "      <td>...</td>\n",
       "      <td>...</td>\n",
       "    </tr>\n",
       "    <tr>\n",
       "      <th>795</th>\n",
       "      <td>87</td>\n",
       "      <td>0</td>\n",
       "      <td>1</td>\n",
       "      <td>0</td>\n",
       "      <td>1</td>\n",
       "      <td>1</td>\n",
       "      <td>0</td>\n",
       "      <td>1</td>\n",
       "      <td>0</td>\n",
       "      <td>0</td>\n",
       "    </tr>\n",
       "    <tr>\n",
       "      <th>796</th>\n",
       "      <td>69</td>\n",
       "      <td>0</td>\n",
       "      <td>1</td>\n",
       "      <td>0</td>\n",
       "      <td>0</td>\n",
       "      <td>1</td>\n",
       "      <td>0</td>\n",
       "      <td>0</td>\n",
       "      <td>0</td>\n",
       "      <td>1</td>\n",
       "    </tr>\n",
       "    <tr>\n",
       "      <th>797</th>\n",
       "      <td>53</td>\n",
       "      <td>0</td>\n",
       "      <td>1</td>\n",
       "      <td>0</td>\n",
       "      <td>1</td>\n",
       "      <td>1</td>\n",
       "      <td>0</td>\n",
       "      <td>0</td>\n",
       "      <td>0</td>\n",
       "      <td>0</td>\n",
       "    </tr>\n",
       "    <tr>\n",
       "      <th>798</th>\n",
       "      <td>50</td>\n",
       "      <td>1</td>\n",
       "      <td>0</td>\n",
       "      <td>1</td>\n",
       "      <td>0</td>\n",
       "      <td>0</td>\n",
       "      <td>0</td>\n",
       "      <td>0</td>\n",
       "      <td>0</td>\n",
       "      <td>1</td>\n",
       "    </tr>\n",
       "    <tr>\n",
       "      <th>799</th>\n",
       "      <td>85</td>\n",
       "      <td>0</td>\n",
       "      <td>1</td>\n",
       "      <td>0</td>\n",
       "      <td>1</td>\n",
       "      <td>1</td>\n",
       "      <td>0</td>\n",
       "      <td>1</td>\n",
       "      <td>0</td>\n",
       "      <td>0</td>\n",
       "    </tr>\n",
       "  </tbody>\n",
       "</table>\n",
       "<p>800 rows × 10 columns</p>\n",
       "</div>"
      ],
      "text/plain": [
       "     math_score  test_preparation_course_completed  \\\n",
       "0            62                                  0   \n",
       "1            66                                  1   \n",
       "2            79                                  0   \n",
       "3            61                                  0   \n",
       "4            73                                  0   \n",
       "..          ...                                ...   \n",
       "795          87                                  0   \n",
       "796          69                                  0   \n",
       "797          53                                  0   \n",
       "798          50                                  1   \n",
       "799          85                                  0   \n",
       "\n",
       "     test_preparation_course_none  lunch_free/reduced  gender_female  \\\n",
       "0                               1                   0              1   \n",
       "1                               0                   1              1   \n",
       "2                               1                   1              1   \n",
       "3                               1                   1              0   \n",
       "4                               1                   0              0   \n",
       "..                            ...                 ...            ...   \n",
       "795                             1                   0              1   \n",
       "796                             1                   0              0   \n",
       "797                             1                   0              1   \n",
       "798                             0                   1              0   \n",
       "799                             1                   0              1   \n",
       "\n",
       "     lunch_standard  parental_level_of_education_high school  \\\n",
       "0                 1                                        0   \n",
       "1                 0                                        0   \n",
       "2                 0                                        0   \n",
       "3                 0                                        0   \n",
       "4                 1                                        1   \n",
       "..              ...                                      ...   \n",
       "795               1                                        0   \n",
       "796               1                                        0   \n",
       "797               1                                        0   \n",
       "798               0                                        0   \n",
       "799               1                                        0   \n",
       "\n",
       "     race_ethnicity_group D  race_ethnicity_group B  gender_male  \n",
       "0                         1                       0            0  \n",
       "1                         0                       0            0  \n",
       "2                         1                       0            0  \n",
       "3                         0                       0            1  \n",
       "4                         0                       0            1  \n",
       "..                      ...                     ...          ...  \n",
       "795                       1                       0            0  \n",
       "796                       0                       0            1  \n",
       "797                       0                       0            0  \n",
       "798                       0                       0            1  \n",
       "799                       1                       0            0  \n",
       "\n",
       "[800 rows x 10 columns]"
      ]
     },
     "execution_count": 8,
     "metadata": {},
     "output_type": "execute_result"
    }
   ],
   "source": [
    "X_train"
   ]
  },
  {
   "cell_type": "code",
   "execution_count": 9,
   "id": "5d17e984-f257-4d89-bbd6-cd0a1dbf6e4e",
   "metadata": {},
   "outputs": [
    {
     "data": {
      "text/plain": [
       "0      87.0\n",
       "1      64.0\n",
       "2      75.0\n",
       "3      75.0\n",
       "4      82.0\n",
       "       ... \n",
       "195    55.0\n",
       "196    57.0\n",
       "197    77.0\n",
       "198    72.0\n",
       "199    69.0\n",
       "Name: average, Length: 200, dtype: float64"
      ]
     },
     "execution_count": 9,
     "metadata": {},
     "output_type": "execute_result"
    }
   ],
   "source": [
    "Y_test"
   ]
  },
  {
   "cell_type": "code",
   "execution_count": 10,
   "id": "d410c2db-9d63-431f-b033-628504952e4f",
   "metadata": {},
   "outputs": [
    {
     "data": {
      "text/plain": [
       "pandas.core.series.Series"
      ]
     },
     "execution_count": 10,
     "metadata": {},
     "output_type": "execute_result"
    }
   ],
   "source": [
    "type(Y)"
   ]
  },
  {
   "cell_type": "code",
   "execution_count": null,
   "id": "974fe2c2-01cc-47f3-b0e7-67061fc36ad1",
   "metadata": {},
   "outputs": [],
   "source": []
  },
  {
   "cell_type": "code",
   "execution_count": 11,
   "id": "956c1d9a",
   "metadata": {},
   "outputs": [],
   "source": [
    "\n",
    "scaler = StandardScaler()\n",
    "X_train = scaler.fit_transform(X_train)\n",
    "X_test = scaler.transform(X_test)"
   ]
  },
  {
   "cell_type": "code",
   "execution_count": 63,
   "id": "b44b0522",
   "metadata": {},
   "outputs": [
    {
     "data": {
      "image/png": "[encoded data removed]",
      "text/plain": [
       "<Figure size 1000x600 with 1 Axes>"
      ]
     },
     "metadata": {},
     "output_type": "display_data"
    }
   ],
   "source": [
    "acc = []\n",
    "# Will take some time for first finding the optimal value of C\n",
    "from sklearn import metrics\n",
    "for i in range(1,15):\n",
    "    svr = SVR(kernel='rbf', C=i, epsilon=0.1).fit(X_train,Y_train)\n",
    "    svr_pdt=svr.predict(X_test)\n",
    "    acc.append(metrics.mean_squared_error(Y_test, svr_pdt))\n",
    "    \n",
    "plt.figure(figsize=(10,6))\n",
    "plt.plot(range(1,15),acc,color = 'blue',linestyle='dashed', \n",
    "         marker='o',markerfacecolor='red', markersize=10)\n",
    "plt.title('mean_squared_error vs. C Value')\n",
    "plt.xlabel('C')\n",
    "plt.ylabel('Mean_squared_error')\n",
    "plt.grid(True,color='g')"
   ]
  },
  {
   "cell_type": "code",
   "execution_count": null,
   "id": "97a11cda-2549-461c-b40f-810d45e08834",
   "metadata": {},
   "outputs": [],
   "source": []
  },
  {
   "cell_type": "code",
   "execution_count": 69,
   "id": "c901cdab",
   "metadata": {},
   "outputs": [
    {
     "data": {
      "text/plain": [
       "SVR(C=10)"
      ]
     },
     "execution_count": 69,
     "metadata": {},
     "output_type": "execute_result"
    }
   ],
   "source": [
    "\n",
    "svr = SVR(kernel='rbf', C=10, epsilon=0.1)\n",
    "svr.fit(X_train,Y_train)"
   ]
  },
  {
   "cell_type": "code",
   "execution_count": 70,
   "id": "548d4ec2",
   "metadata": {},
   "outputs": [],
   "source": [
    "Y_pred = svr.predict(X_test)\n",
    "#Y_pred"
   ]
  },
  {
   "cell_type": "code",
   "execution_count": 71,
   "id": "70d0c7cd",
   "metadata": {},
   "outputs": [
    {
     "name": "stdout",
     "output_type": "stream",
     "text": [
      "Mean Squared Error: 21.10852726513705\n"
     ]
    }
   ],
   "source": [
    "mse = mean_squared_error(Y_test, Y_pred)\n",
    "print(\"Mean Squared Error:\", mse)"
   ]
  },
  {
   "cell_type": "code",
   "execution_count": 72,
   "id": "7e0bfb51",
   "metadata": {},
   "outputs": [
    {
     "data": {
      "text/plain": [
       "4.594401730926133"
      ]
     },
     "execution_count": 72,
     "metadata": {},
     "output_type": "execute_result"
    }
   ],
   "source": [
    "nqrt = np.sqrt(mean_squared_error(Y_test, Y_pred))\n",
    "#(\"root mean squared value:\",nqrt)\n",
    "nqrt"
   ]
  },
  {
   "cell_type": "code",
   "execution_count": 73,
   "id": "8a04cb1a",
   "metadata": {},
   "outputs": [
    {
     "name": "stdout",
     "output_type": "stream",
     "text": [
      "R2 Score: 90.17146438047465\n"
     ]
    }
   ],
   "source": [
    "r2 = r2_score(Y_test,Y_pred)\n",
    "print(\"R2 Score:\", r2*100)"
   ]
  },
  {
   "cell_type": "code",
   "execution_count": null,
   "id": "7d6dbafd",
   "metadata": {},
   "outputs": [],
   "source": []
  },
  {
   "cell_type": "code",
   "execution_count": null,
   "id": "6b0bc4ed-29a2-49be-a487-8f189f2c5063",
   "metadata": {},
   "outputs": [],
   "source": []
  }
 ],
 "metadata": {
  "kernelspec": {
   "display_name": "Python 3 (ipykernel)",
   "language": "python",
   "name": "python3"
  },
  "language_info": {
   "codemirror_mode": {
    "name": "ipython",
    "version": 3
   },
   "file_extension": ".py",
   "mimetype": "text/x-python",
   "name": "python",
   "nbconvert_exporter": "python",
   "pygments_lexer": "ipython3",
   "version": "3.9.13"
  }
 },
 "nbformat": 4,
 "nbformat_minor": 5
}
